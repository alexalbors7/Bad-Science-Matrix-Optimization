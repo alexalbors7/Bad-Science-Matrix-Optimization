{
  "cells": [
    {
      "cell_type": "markdown",
      "metadata": {
        "id": "6JP8C9jgCU0M"
      },
      "source": [
        "## Sequential Search\n",
        "This notebook finds the optimal $3 \\times 3$ and $4 \\times 4$ matrices related to the paper \"On the Structure of Bad Science Matrices\" through an exhaustive, sequential search.\n"
      ]
    },
    {
      "cell_type": "markdown",
      "metadata": {
        "id": "7BP01gs-ed_J"
      },
      "source": [
        "First import all necessary libraries:"
      ]
    },
    {
      "cell_type": "code",
      "execution_count": 6,
      "metadata": {
        "id": "gj6d9m19FcNM"
      },
      "outputs": [],
      "source": [
        "import torch\n",
        "from itertools import combinations, islice, product\n",
        "from tqdm import tqdm\n",
        "import numpy as np\n",
        "from scipy import special\n",
        "import time"
      ]
    },
    {
      "cell_type": "markdown",
      "metadata": {
        "id": "RwXiWgG9FxJA"
      },
      "source": [
        "Helper functions used to generate the candidate rows for the optimal matrix. These are explained in detail in the $\\texttt{constructCandidateRows}$ notebook."
      ]
    },
    {
      "cell_type": "code",
      "execution_count": 7,
      "metadata": {
        "id": "ZdpqsShtFsV7"
      },
      "outputs": [],
      "source": [
        "# Generate binary vectors\n",
        "def vectors(n, binary=False):\n",
        "    if binary:\n",
        "        return torch.tensor(list(product([0, 1], repeat=n)), dtype=torch.float32).T\n",
        "    return torch.tensor(list(product([-1, 1], repeat=n)), dtype=torch.float32).T\n",
        "\n",
        "# Currently there are rows that appear twice up to a sign change, and this function keeps only one of them.\n",
        "def fix_row_signs(tensor):\n",
        "    # Iterate over each row\n",
        "    normalized_tensor = []\n",
        "    for row in tensor:\n",
        "        # Find the first non-zero element for sign determination\n",
        "        first_non_zero_index = (row != 0).nonzero(as_tuple=True)[0][0]\n",
        "        sign = torch.sign(row[first_non_zero_index])\n",
        "        normalized_row = row * sign\n",
        "        normalized_tensor.append(normalized_row)\n",
        "    normalized_tensor = torch.stack(normalized_tensor)\n",
        "    # Now return the unique ones.\n",
        "    return torch.unique(normalized_tensor, dim=0)\n",
        "\n",
        "# Generates all possible rows appearing in the optimal matrix. Now it's a matter of checking all row combinations.\n",
        "def candidate_rows(n):\n",
        "  # Each row represents a subset\n",
        "  binary_choices = vectors(2**n, binary=True).T\n",
        "\n",
        "  # Sums over chosen subset to yield all candidate, unnormalized rows\n",
        "  rows = torch.matmul(binary_choices, vectors(n).T)\n",
        "\n",
        "  # Compute their norms\n",
        "  row_norms = torch.norm(rows, dim=1, keepdim=True)\n",
        "\n",
        "  # Normalize rows\n",
        "  normalized_rows_with_nans = rows/row_norms\n",
        "\n",
        "  # During normalization, some choices add up to 0, so after normalizing we obtain all nan values\n",
        "  # We thus slice the tensor to remove nan rows\n",
        "  normalized_rows = normalized_rows_with_nans[~torch.all(normalized_rows_with_nans.isnan(), dim = 1)]\n",
        "\n",
        "  # Remove redundant rows (no need to try them twice!)\n",
        "  unique_normalized_rows = torch.unique(normalized_rows, dim=0)\n",
        "\n",
        "  # We can also remove rows that are equal up to a row-wise sign change.\n",
        "  final_rows = fix_row_signs(unique_normalized_rows)\n",
        "\n",
        "  return final_rows"
      ]
    },
    {
      "cell_type": "markdown",
      "metadata": {
        "id": "16k-mocqHbBY"
      },
      "source": [
        "The choice of $n$ and $r$ checks $r \\times n$ matrices. Note that the $n = 4,r = 4$ case can be prohibitively time consuming to check on Google colab due to the website's time limitations. We recommend running it locally.\n",
        "\n",
        "The following code cell also defines the beta function of a matrix, and the $\\texttt{run(combination, rows)}$ function builds a matrix from a given index $n$-tuple, chosen from the rows of the array $\\texttt{rows}$.  \n"
      ]
    },
    {
      "cell_type": "code",
      "execution_count": 8,
      "metadata": {
        "id": "Ht3fpxkDFwWr"
      },
      "outputs": [],
      "source": [
        "# Set n, r parameters to solve the r x n bad science matrix problem.\n",
        "n = 3\n",
        "r = 3\n",
        "\n",
        "# Generate candidate rows\n",
        "rows = candidate_rows(n)\n",
        "\n",
        "# Binary vectors needed to compute the beta value of a matrix\n",
        "binary_vectors = vectors(n)[:, :2**(n-1)]\n",
        "\n",
        "# Beta function\n",
        "def beta(A, binary_vectors):\n",
        "    B = torch.matmul(A, binary_vectors)\n",
        "    return torch.mean(torch.max(torch.abs(B), dim=0).values)\n",
        "\n",
        "# For matrix from combinations\n",
        "def _run(combination, rows):\n",
        "    A = rows[torch.tensor(combination)]\n",
        "    value_A = beta(A, binary_vectors)\n",
        "    return value_A, A"
      ]
    },
    {
      "cell_type": "markdown",
      "metadata": {
        "id": "PaUAj_rbfn0Z"
      },
      "source": [
        "Having defined those, we create a generator to parse through all possible combinations ($2300$ for $n = 3$ and $65536$ for $n = 4$), and parse through each combination, keeping track of the maximum beta value, stored in the $\\texttt{beta max}$ variable."
      ]
    },
    {
      "cell_type": "code",
      "execution_count": 9,
      "metadata": {
        "colab": {
          "base_uri": "https://localhost:8080/"
        },
        "id": "4LuqRwxM0CI9",
        "outputId": "fc4ee93c-63a4-4db4-ff00-a61e969aac9e"
      },
      "outputs": [
        {
          "name": "stdout",
          "output_type": "stream",
          "text": [
            "Checking 2300 matrices\n"
          ]
        },
        {
          "name": "stderr",
          "output_type": "stream",
          "text": [
            "100%|██████████| 2300/2300 [00:00<00:00, 9366.39it/s]"
          ]
        },
        {
          "name": "stdout",
          "output_type": "stream",
          "text": [
            "\n",
            "Beta = 1.5731321573257446\n",
            "Best A is [[-0.          0.70710677 -0.70710677]\n",
            " [ 0.57735026 -0.57735026 -0.57735026]\n",
            " [ 0.57735026  0.57735026  0.57735026]]\n",
            "Sequential took 0.2530663013458252 seconds\n"
          ]
        },
        {
          "name": "stderr",
          "output_type": "stream",
          "text": [
            "\n"
          ]
        }
      ],
      "source": [
        "elements = torch.tensor(range(rows.shape[0]))\n",
        "\n",
        "def generate_combinations(elements, r):\n",
        "    for combination in combinations(elements, r):\n",
        "        yield combination\n",
        "\n",
        "combinations_generator = generate_combinations(elements, r)\n",
        "\n",
        "start = time.time()\n",
        "\n",
        "beta_max = 0\n",
        "\n",
        "best_A = None\n",
        "\n",
        "total = special.binom(rows.shape[0], r).astype(int)\n",
        "\n",
        "print(f\"Checking {total} matrices\")\n",
        "\n",
        "for combination in tqdm(combinations_generator, total = total):\n",
        "\n",
        "    A = rows[torch.tensor(combination)]\n",
        "\n",
        "    beta_candidate = torch.mean(torch.max(torch.abs(A @ binary_vectors), dim=0).values)\n",
        "\n",
        "    if beta_candidate > beta_max:\n",
        "        beta_max, best_A = beta_candidate, A\n",
        "\n",
        "print()\n",
        "print(f\"Beta = {beta_max}\")\n",
        "print(f\"Best A is {best_A.numpy()}\")\n",
        "\n",
        "\n",
        "print(f\"Sequential took {time.time() - start} seconds\")"
      ]
    }
  ],
  "metadata": {
    "colab": {
      "provenance": []
    },
    "kernelspec": {
      "display_name": "Python 3",
      "name": "python3"
    },
    "language_info": {
      "codemirror_mode": {
        "name": "ipython",
        "version": 3
      },
      "file_extension": ".py",
      "mimetype": "text/x-python",
      "name": "python",
      "nbconvert_exporter": "python",
      "pygments_lexer": "ipython3",
      "version": "3.12.4"
    }
  },
  "nbformat": 4,
  "nbformat_minor": 0
}
